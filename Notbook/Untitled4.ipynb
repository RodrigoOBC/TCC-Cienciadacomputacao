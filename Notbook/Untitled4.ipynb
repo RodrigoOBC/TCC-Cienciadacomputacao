{
 "cells": [
  {
   "cell_type": "code",
   "execution_count": 317,
   "metadata": {},
   "outputs": [
    {
     "name": "stdout",
     "output_type": "stream",
     "text": [
      "Populating the interactive namespace from numpy and matplotlib\n"
     ]
    }
   ],
   "source": [
    "import numpy as np\n",
    "import skfuzzy as fuzz\n",
    "%pylab inline"
   ]
  },
  {
   "cell_type": "code",
   "execution_count": 318,
   "metadata": {},
   "outputs": [],
   "source": [
    "exercicio = 2\n",
    "taxa_morte_municipio = 128\n",
    "cancer_historico = 1\n",
    "exercicio = int((exercicio*300)/7)"
   ]
  },
  {
   "cell_type": "code",
   "execution_count": 319,
   "metadata": {},
   "outputs": [
    {
     "name": "stdout",
     "output_type": "stream",
     "text": [
      "85\n"
     ]
    }
   ],
   "source": [
    "print(exercicio)"
   ]
  },
  {
   "cell_type": "code",
   "execution_count": 320,
   "metadata": {},
   "outputs": [],
   "source": [
    "x_exercicios = np.arange(0, 301, 1) # Dias de exercicio por semana [0,7]\n",
    "x_taxa_morte_municipio = np.arange(0, 301, 1) # Glicemia em jejum [0,300]\n",
    "x_cancer_historico  = np.arange(0, 2, 1) # Glicemia pos refeicao [0,300]\n",
    "x_saida = np.arange(0,101,1) # saida em porcento "
   ]
  },
  {
   "cell_type": "code",
   "execution_count": 321,
   "metadata": {},
   "outputs": [
    {
     "data": {
      "text/plain": [
       "array([0, 1])"
      ]
     },
     "execution_count": 321,
     "metadata": {},
     "output_type": "execute_result"
    }
   ],
   "source": [
    "x_cancer_historico"
   ]
  },
  {
   "cell_type": "code",
   "execution_count": 322,
   "metadata": {},
   "outputs": [],
   "source": [
    "exercicio_baixo = fuzz.trimf(x_exercicios, [0, 64, 128])\n",
    "exercicio_normal = fuzz.trimf(x_exercicios, [85, 150, 214])\n",
    "exercicio_alto = fuzz.trimf(x_exercicios, [171, 235, 300])\n",
    "\n",
    "# municipio risco\n",
    "\n",
    "taxa_morte_municipio_baixissimo = fuzz.trimf(x_taxa_morte_municipio, [0, 10, 20])\n",
    "taxa_morte_municipio_baixo = fuzz.trimf(x_taxa_morte_municipio, [20, 30, 40])\n",
    "taxa_morte_municipio_normal = fuzz.trimf(x_taxa_morte_municipio, [40, 50, 60])\n",
    "taxa_morte_municipio_alto = fuzz.trimf(x_taxa_morte_municipio, [60, 70, 80])\n",
    "taxa_morte_municipio_altissimo = fuzz.trimf(x_taxa_morte_municipio, [80, 100, 200])\n",
    "\n",
    "# cancer risco\n",
    "\n",
    "cancer_baixo = fuzz.trimf(x_cancer_historico, [0, 0, 1])\n",
    "cancer_alto = fuzz.trimf(x_cancer_historico, [1, 1, 1])\n",
    "\n",
    "#saida\n",
    "\n",
    "perigo_baixo_x = fuzz.trimf(x_saida, [0, 10, 20])\n",
    "perigo_alto_x = fuzz.trimf(x_saida, [15, 30, 40])\n",
    "perigo_muito_alto = fuzz.trimf(x_saida, [40, 50, 60])\n",
    "perigo_muito_alto = fuzz.trimf(x_saida, [60, 70, 80])\n",
    "perigo_muito_alto = fuzz.trimf(x_saida, [80, 90, 100])"
   ]
  },
  {
   "cell_type": "code",
   "execution_count": 323,
   "metadata": {},
   "outputs": [],
   "source": [
    "exercicio_level_baixo = fuzz.interp_membership(x_exercicios, exercicio_baixo, exercicio)\n",
    "exercicio_level_normal = fuzz.interp_membership(x_exercicios, exercicio_normal, exercicio)\n",
    "exercicio_level_alto = fuzz.interp_membership(x_exercicios, exercicio_alto, exercicio)\n",
    "\n",
    "\n",
    "# fazendo a vendo qual a relação dos municipios e classificando \n",
    "taxa_morte_municipio_level_baixissimo = fuzz.interp_membership(x_taxa_morte_municipio, taxa_morte_municipio_baixissimo, taxa_morte_municipio)\n",
    "taxa_morte_municipio_level_baixo = fuzz.interp_membership(x_taxa_morte_municipio, taxa_morte_municipio_baixo, taxa_morte_municipio)\n",
    "taxa_morte_municipio_level_normal = fuzz.interp_membership(x_taxa_morte_municipio, taxa_morte_municipio_normal, taxa_morte_municipio)\n",
    "taxa_morte_municipio_level_alto = fuzz.interp_membership(x_taxa_morte_municipio, taxa_morte_municipio_alto, taxa_morte_municipio)\n",
    "taxa_morte_municipio_level_altissimo = fuzz.interp_membership(x_taxa_morte_municipio, taxa_morte_municipio_altissimo, taxa_morte_municipio)\n",
    "\n",
    "# vendo a realação do cancer\n",
    "cancer_historico_level_baixo = fuzz.interp_membership(x_cancer_historico, cancer_baixo, cancer_historico)\n",
    "cancer_historico_level_medio = fuzz.interp_membership(x_cancer_historico, cancer_alto, cancer_historico)"
   ]
  },
  {
   "cell_type": "code",
   "execution_count": 324,
   "metadata": {},
   "outputs": [],
   "source": [
    "# perigo altissimo\n",
    "perigo_altissimo = np.fmin(np.fmax(taxa_morte_municipio_level_altissimo,np.fmin(cancer_historico_level_medio,exercicio_level_baixo)),perigo_muito_alto)\n",
    "perigo_altissimo = np.fmin(np.fmax(taxa_morte_municipio_level_altissimo,np.fmin(cancer_historico_level_medio,exercicio_level_normal)),perigo_muito_alto)\n",
    "\n",
    "#perigo alto\n",
    "\n",
    "perigo_alto = np.fmin(np.fmax(taxa_morte_municipio_level_alto,np.fmin(cancer_historico_level_medio,exercicio_level_normal)),perigo_alto_x)\n",
    "perigo_alto = np.fmin(np.fmax(taxa_morte_municipio_level_alto,np.fmin(cancer_historico_level_baixo,exercicio_level_baixo)),perigo_alto_x)\n",
    "\n",
    "#perigo medio\n",
    "perigo_medio = np.fmin(np.fmax(taxa_morte_municipio_level_baixo,np.fmin(cancer_historico_level_medio,exercicio_level_normal)),perigo_baixo_x)\n",
    "perigo_medio = np.fmin(np.fmax(taxa_morte_municipio_level_baixo,np.fmin(cancer_historico_level_baixo,exercicio_level_alto)),perigo_baixo_x)\n",
    "\n"
   ]
  },
  {
   "cell_type": "code",
   "execution_count": 197,
   "metadata": {},
   "outputs": [
    {
     "data": {
      "text/plain": [
       "array([0.        , 0.        , 0.        , 0.        , 0.        ,\n",
       "       0.        , 0.        , 0.        , 0.        , 0.        ,\n",
       "       0.        , 0.        , 0.        , 0.        , 0.        ,\n",
       "       0.        , 0.        , 0.        , 0.        , 0.        ,\n",
       "       0.        , 0.        , 0.        , 0.        , 0.        ,\n",
       "       0.        , 0.        , 0.        , 0.        , 0.        ,\n",
       "       0.        , 0.        , 0.        , 0.        , 0.        ,\n",
       "       0.        , 0.        , 0.        , 0.        , 0.        ,\n",
       "       0.        , 0.        , 0.        , 0.        , 0.        ,\n",
       "       0.        , 0.        , 0.        , 0.        , 0.        ,\n",
       "       0.        , 0.        , 0.        , 0.        , 0.        ,\n",
       "       0.        , 0.        , 0.        , 0.        , 0.        ,\n",
       "       0.        , 0.04      , 0.08      , 0.12      , 0.16      ,\n",
       "       0.2       , 0.24      , 0.28      , 0.32      , 0.36      ,\n",
       "       0.4       , 0.44      , 0.48      , 0.52      , 0.56      ,\n",
       "       0.6       , 0.64      , 0.68      , 0.72      , 0.72      ,\n",
       "       0.72      , 0.72      , 0.72      , 0.72      , 0.72      ,\n",
       "       0.72      , 0.72      , 0.72      , 0.72      , 0.72      ,\n",
       "       0.66666667, 0.6       , 0.53333333, 0.46666667, 0.4       ,\n",
       "       0.33333333, 0.26666667, 0.2       , 0.13333333, 0.06666667,\n",
       "       0.        ])"
      ]
     },
     "execution_count": 197,
     "metadata": {},
     "output_type": "execute_result"
    }
   ],
   "source": [
    "perigo_altissimo"
   ]
  },
  {
   "cell_type": "code",
   "execution_count": 189,
   "metadata": {},
   "outputs": [
    {
     "data": {
      "text/plain": [
       "0.0"
      ]
     },
     "execution_count": 189,
     "metadata": {},
     "output_type": "execute_result"
    }
   ],
   "source": [
    "taxa_morte_municipio_level_alto"
   ]
  },
  {
   "cell_type": "code",
   "execution_count": 178,
   "metadata": {},
   "outputs": [
    {
     "data": {
      "text/plain": [
       "0.72"
      ]
     },
     "execution_count": 178,
     "metadata": {},
     "output_type": "execute_result"
    }
   ],
   "source": [
    "perigo_alto"
   ]
  },
  {
   "cell_type": "code",
   "execution_count": 118,
   "metadata": {},
   "outputs": [],
   "source": [
    "saida_p = np.fmin(\n",
    "    np.fmin(np.fmax(taxa_morte_municipio_level_altissimo, cancer_historico_level_medio),\n",
    "        exercicio_level_baixo), saida_provavel)\n"
   ]
  },
  {
   "cell_type": "code",
   "execution_count": 121,
   "metadata": {},
   "outputs": [],
   "source": [
    "saida_p = np.fmin(\n",
    "\t\tnp.fmin(np.fmax(taxa_morte_municipio_level_alto, cancer_historico_level_baixo),\n",
    "\t\t\texercicio_level_normal), saida_provavel)"
   ]
  },
  {
   "cell_type": "code",
   "execution_count": 125,
   "metadata": {},
   "outputs": [],
   "source": [
    "saida_muito_provavel = np.fmin(\n",
    "\t\tnp.fmin(np.fmax(taxa_morte_municipio_level_alto, cancer_historico_level_medio),\n",
    "\t\t\texercicio_level_baixo), saida_muito_provavel)"
   ]
  },
  {
   "cell_type": "code",
   "execution_count": null,
   "metadata": {},
   "outputs": [],
   "source": [
    "saida_muito_provavel = np.fmin(\n",
    "\t\tnp.fmin(np.fmax(taxa_morte_municipio_level_normal, cancer_historico_level_medio),\n",
    "\t\t\texercicio_level_normal), saida_muito_provavel)"
   ]
  },
  {
   "cell_type": "code",
   "execution_count": 32,
   "metadata": {},
   "outputs": [],
   "source": [
    "saida_pp = np.fmin(\n",
    "\t\tnp.fmin(np.fmax(glicemia_jejum_level_medio,glicemia_jejum_level_baixo), \n",
    "\t\t\tglicemia_pos_level_medio), saida_pouco_provavel)"
   ]
  },
  {
   "cell_type": "code",
   "execution_count": 34,
   "metadata": {},
   "outputs": [
    {
     "data": {
      "text/plain": [
       "array([0.  , 0.  , 0.  , 0.  , 0.  , 0.  , 0.  , 0.  , 0.  , 0.  , 0.  ,\n",
       "       0.  , 0.  , 0.  , 0.  , 0.  , 0.  , 0.  , 0.  , 0.  , 0.  , 0.  ,\n",
       "       0.  , 0.  , 0.  , 0.  , 0.  , 0.  , 0.  , 0.  , 0.  , 0.05, 0.1 ,\n",
       "       0.15, 0.2 , 0.2 , 0.2 , 0.2 , 0.2 , 0.2 , 0.2 , 0.2 , 0.2 , 0.2 ,\n",
       "       0.2 , 0.2 , 0.2 , 0.2 , 0.2 , 0.2 , 0.2 , 0.2 , 0.2 , 0.2 , 0.2 ,\n",
       "       0.2 , 0.2 , 0.2 , 0.2 , 0.2 , 0.2 , 0.2 , 0.2 , 0.2 , 0.2 , 0.2 ,\n",
       "       0.2 , 0.15, 0.1 , 0.05, 0.  , 0.  , 0.  , 0.  , 0.  , 0.  , 0.  ,\n",
       "       0.  , 0.  , 0.  , 0.  , 0.  , 0.  , 0.  , 0.  , 0.  , 0.  , 0.  ,\n",
       "       0.  , 0.  , 0.  , 0.  , 0.  , 0.  , 0.  , 0.  , 0.  , 0.  , 0.  ,\n",
       "       0.  , 0.  ])"
      ]
     },
     "execution_count": 34,
     "metadata": {},
     "output_type": "execute_result"
    }
   ],
   "source": [
    "saida_p"
   ]
  },
  {
   "cell_type": "code",
   "execution_count": 36,
   "metadata": {},
   "outputs": [
    {
     "data": {
      "text/plain": [
       "array([0.  , 0.  , 0.  , 0.  , 0.  , 0.  , 0.  , 0.  , 0.  , 0.  , 0.  ,\n",
       "       0.  , 0.  , 0.  , 0.  , 0.  , 0.  , 0.  , 0.  , 0.  , 0.  , 0.  ,\n",
       "       0.  , 0.  , 0.  , 0.  , 0.  , 0.  , 0.  , 0.  , 0.  , 0.05, 0.1 ,\n",
       "       0.15, 0.2 , 0.2 , 0.2 , 0.2 , 0.2 , 0.2 , 0.2 , 0.2 , 0.2 , 0.2 ,\n",
       "       0.2 , 0.2 , 0.2 , 0.2 , 0.2 , 0.2 , 0.2 , 0.2 , 0.2 , 0.2 , 0.2 ,\n",
       "       0.2 , 0.2 , 0.2 , 0.2 , 0.2 , 0.2 , 0.2 , 0.2 , 0.2 , 0.2 , 0.2 ,\n",
       "       0.2 , 0.15, 0.1 , 0.05, 0.  , 0.  , 0.  , 0.  , 0.  , 0.  , 0.  ,\n",
       "       0.  , 0.  , 0.  , 0.  , 0.  , 0.  , 0.  , 0.  , 0.  , 0.  , 0.  ,\n",
       "       0.  , 0.  , 0.  , 0.  , 0.  , 0.  , 0.  , 0.  , 0.  , 0.  , 0.  ,\n",
       "       0.  , 0.  ])"
      ]
     },
     "execution_count": 36,
     "metadata": {},
     "output_type": "execute_result"
    }
   ],
   "source": [
    "saida_p"
   ]
  },
  {
   "cell_type": "code",
   "execution_count": 38,
   "metadata": {},
   "outputs": [
    {
     "data": {
      "text/plain": [
       "array([0.        , 0.04      , 0.08      , 0.12      , 0.16      ,\n",
       "       0.2       , 0.24      , 0.28      , 0.32      , 0.36      ,\n",
       "       0.4       , 0.44      , 0.44444444, 0.44444444, 0.44444444,\n",
       "       0.44444444, 0.44444444, 0.44444444, 0.44444444, 0.44444444,\n",
       "       0.44444444, 0.44444444, 0.44444444, 0.44444444, 0.44444444,\n",
       "       0.44444444, 0.44444444, 0.44444444, 0.44444444, 0.44444444,\n",
       "       0.44444444, 0.44444444, 0.44444444, 0.44444444, 0.44444444,\n",
       "       0.44444444, 0.44444444, 0.44444444, 0.44444444, 0.44      ,\n",
       "       0.4       , 0.36      , 0.32      , 0.28      , 0.24      ,\n",
       "       0.2       , 0.16      , 0.12      , 0.08      , 0.04      ,\n",
       "       0.        , 0.        , 0.        , 0.        , 0.        ,\n",
       "       0.        , 0.        , 0.        , 0.        , 0.        ,\n",
       "       0.        , 0.        , 0.        , 0.        , 0.        ,\n",
       "       0.        , 0.        , 0.        , 0.        , 0.        ,\n",
       "       0.        , 0.        , 0.        , 0.        , 0.        ,\n",
       "       0.        , 0.        , 0.        , 0.        , 0.        ,\n",
       "       0.        , 0.        , 0.        , 0.        , 0.        ,\n",
       "       0.        , 0.        , 0.        , 0.        , 0.        ,\n",
       "       0.        , 0.        , 0.        , 0.        , 0.        ,\n",
       "       0.        , 0.        , 0.        , 0.        , 0.        ,\n",
       "       0.        ])"
      ]
     },
     "execution_count": 38,
     "metadata": {},
     "output_type": "execute_result"
    }
   ],
   "source": [
    "saida_pp"
   ]
  },
  {
   "cell_type": "code",
   "execution_count": 199,
   "metadata": {},
   "outputs": [],
   "source": [
    "aggregated = np.fmax(perigo_baixo, np.fmax(perigo_alto, perigo_altissimo))"
   ]
  },
  {
   "cell_type": "code",
   "execution_count": 200,
   "metadata": {},
   "outputs": [
    {
     "data": {
      "text/plain": [
       "array([0.        , 0.        , 0.        , 0.        , 0.        ,\n",
       "       0.        , 0.        , 0.        , 0.        , 0.        ,\n",
       "       0.        , 0.        , 0.        , 0.        , 0.        ,\n",
       "       0.        , 0.        , 0.        , 0.        , 0.        ,\n",
       "       0.        , 0.        , 0.        , 0.        , 0.        ,\n",
       "       0.        , 0.        , 0.        , 0.        , 0.        ,\n",
       "       0.        , 0.        , 0.        , 0.        , 0.        ,\n",
       "       0.        , 0.        , 0.        , 0.        , 0.        ,\n",
       "       0.        , 0.        , 0.        , 0.        , 0.        ,\n",
       "       0.        , 0.        , 0.        , 0.        , 0.        ,\n",
       "       0.        , 0.        , 0.        , 0.        , 0.        ,\n",
       "       0.        , 0.        , 0.        , 0.        , 0.        ,\n",
       "       0.        , 0.04      , 0.08      , 0.12      , 0.16      ,\n",
       "       0.2       , 0.24      , 0.28      , 0.32      , 0.36      ,\n",
       "       0.4       , 0.44      , 0.48      , 0.52      , 0.56      ,\n",
       "       0.6       , 0.64      , 0.68      , 0.72      , 0.72      ,\n",
       "       0.72      , 0.72      , 0.72      , 0.72      , 0.72      ,\n",
       "       0.72      , 0.72      , 0.72      , 0.72      , 0.72      ,\n",
       "       0.66666667, 0.6       , 0.53333333, 0.46666667, 0.4       ,\n",
       "       0.33333333, 0.26666667, 0.2       , 0.13333333, 0.06666667,\n",
       "       0.        ])"
      ]
     },
     "execution_count": 200,
     "metadata": {},
     "output_type": "execute_result"
    }
   ],
   "source": [
    "aggregated"
   ]
  },
  {
   "cell_type": "code",
   "execution_count": 325,
   "metadata": {},
   "outputs": [
    {
     "data": {
      "text/plain": [
       "90.0"
      ]
     },
     "execution_count": 325,
     "metadata": {},
     "output_type": "execute_result"
    }
   ],
   "source": []
  },
  {
   "cell_type": "code",
   "execution_count": 329,
   "metadata": {},
   "outputs": [
    {
     "data": {
      "text/plain": [
       "81.4602026049204"
      ]
     },
     "execution_count": 329,
     "metadata": {},
     "output_type": "execute_result"
    }
   ],
   "source": [
    "result = fuzz.defuzzify.dcentroid(x_saida, aggregated, 61.4)\n",
    "result"
   ]
  },
  {
   "cell_type": "code",
   "execution_count": 327,
   "metadata": {},
   "outputs": [
    {
     "data": {
      "image/png": "[encoded data removed]",
      "text/plain": [
       "<Figure size 432x288 with 1 Axes>"
      ]
     },
     "metadata": {
      "needs_background": "light"
     },
     "output_type": "display_data"
    }
   ],
   "source": [
    "fig, ax = plt.subplots()"
   ]
  },
  {
   "cell_type": "code",
   "execution_count": 315,
   "metadata": {},
   "outputs": [],
   "source": [
    "perigo_exemplo_1 = fuzz.gaussmf(x_saida,10,5)\n",
    "perigo_exemplo_2 = fuzz.gaussmf(x_saida, 30, 5)\n",
    "perigo_exemplo_3 = fuzz.gaussmf(x_saida, 40, 5)\n"
   ]
  },
  {
   "cell_type": "code",
   "execution_count": 303,
   "metadata": {},
   "outputs": [
    {
     "data": {
      "text/plain": [
       "array([  0,   1,   2,   3,   4,   5,   6,   7,   8,   9,  10,  11,  12,\n",
       "        13,  14,  15,  16,  17,  18,  19,  20,  21,  22,  23,  24,  25,\n",
       "        26,  27,  28,  29,  30,  31,  32,  33,  34,  35,  36,  37,  38,\n",
       "        39,  40,  41,  42,  43,  44,  45,  46,  47,  48,  49,  50,  51,\n",
       "        52,  53,  54,  55,  56,  57,  58,  59,  60,  61,  62,  63,  64,\n",
       "        65,  66,  67,  68,  69,  70,  71,  72,  73,  74,  75,  76,  77,\n",
       "        78,  79,  80,  81,  82,  83,  84,  85,  86,  87,  88,  89,  90,\n",
       "        91,  92,  93,  94,  95,  96,  97,  98,  99, 100])"
      ]
     },
     "execution_count": 303,
     "metadata": {},
     "output_type": "execute_result"
    }
   ],
   "source": [
    "x_saida"
   ]
  },
  {
   "cell_type": "code",
   "execution_count": 316,
   "metadata": {},
   "outputs": [
    {
     "data": {
      "text/plain": [
       "[<matplotlib.lines.Line2D at 0x12ba3730>,\n",
       " <matplotlib.lines.Line2D at 0x12c8a050>,\n",
       " <matplotlib.lines.Line2D at 0x12c8a0d0>]"
      ]
     },
     "execution_count": 316,
     "metadata": {},
     "output_type": "execute_result"
    },
    {
     "data": {
      "image/png": "[encoded data removed]",
      "text/plain": [
       "<Figure size 432x288 with 1 Axes>"
      ]
     },
     "metadata": {
      "needs_background": "light"
     },
     "output_type": "display_data"
    }
   ],
   "source": [
    "plt.plot(x_saida,perigo_exemplo_1,'r',x_saida,perigo_exemplo_2,'g',perigo_exemplo_3,'b')"
   ]
  },
  {
   "cell_type": "code",
   "execution_count": 308,
   "metadata": {},
   "outputs": [],
   "source": [
    "x_saida = np.arange(0,40,1)"
   ]
  }
 ],
 "metadata": {
  "kernelspec": {
   "display_name": "Python 3",
   "language": "python",
   "name": "python3"
  },
  "language_info": {
   "codemirror_mode": {
    "name": "ipython",
    "version": 3
   },
   "file_extension": ".py",
   "mimetype": "text/x-python",
   "name": "python",
   "nbconvert_exporter": "python",
   "pygments_lexer": "ipython3",
   "version": "3.7.4"
  }
 },
 "nbformat": 4,
 "nbformat_minor": 2
}
